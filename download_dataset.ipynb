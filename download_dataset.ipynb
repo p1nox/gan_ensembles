{
 "cells": [
  {
   "cell_type": "markdown",
   "id": "6b765800",
   "metadata": {},
   "source": [
    "# Download MRIs dataset\n",
    "\n",
    "We need to use [opendatasets](https://github.com/JovianML/opendatasets) to download target dataset from Kaggle: [Alzheimer's Dataset ( 4 class of Images)](https://www.kaggle.com/datasets/tourist55/alzheimers-dataset-4-class-of-images).\n",
    "\n",
    "After executing the following cell, you will be asked to enter your Kaggle username & key, which you can get by following these [steps](https://github.com/JovianML/opendatasets#kaggle-credentials)."
   ]
  },
  {
   "cell_type": "code",
   "execution_count": 1,
   "id": "f02e04cc",
   "metadata": {},
   "outputs": [
    {
     "name": "stdout",
     "output_type": "stream",
     "text": [
      "Please provide your Kaggle credentials to download this dataset. Learn more: http://bit.ly/kaggle-creds\n",
      "Your Kaggle username: p1nox101\n",
      "Your Kaggle Key: ········\n",
      "Downloading alzheimers-dataset-4-class-of-images.zip to ./alzheimers-dataset-4-class-of-images\n"
     ]
    },
    {
     "name": "stderr",
     "output_type": "stream",
     "text": [
      "100%|██████████| 34.1M/34.1M [00:00<00:00, 38.0MB/s]\n"
     ]
    },
    {
     "name": "stdout",
     "output_type": "stream",
     "text": [
      "\n"
     ]
    }
   ],
   "source": [
    "import opendatasets as od\n",
    "dataset_url = 'https://www.kaggle.com/datasets/tourist55/alzheimers-dataset-4-class-of-images'\n",
    "od.download(dataset_url)"
   ]
  },
  {
   "cell_type": "code",
   "execution_count": 2,
   "id": "b6506709",
   "metadata": {},
   "outputs": [],
   "source": [
    "# move and rename data folder\n",
    "!rm -rf data\n",
    "!mkdir -p data\n",
    "!mv \"alzheimers-dataset-4-class-of-images/Alzheimer_s Dataset\" data/alzheimers_mri_dataset\n",
    "# remove old container folder\n",
    "!rm -r alzheimers-dataset-4-class-of-images"
   ]
  },
  {
   "cell_type": "code",
   "execution_count": null,
   "id": "16756cdc",
   "metadata": {},
   "outputs": [],
   "source": []
  }
 ],
 "metadata": {
  "kernelspec": {
   "display_name": "Python 3",
   "language": "python",
   "name": "python3"
  },
  "language_info": {
   "codemirror_mode": {
    "name": "ipython",
    "version": 3
   },
   "file_extension": ".py",
   "mimetype": "text/x-python",
   "name": "python",
   "nbconvert_exporter": "python",
   "pygments_lexer": "ipython3",
   "version": "3.6.5"
  }
 },
 "nbformat": 4,
 "nbformat_minor": 5
}
